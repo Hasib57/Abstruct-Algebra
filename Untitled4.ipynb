{
  "nbformat": 4,
  "nbformat_minor": 0,
  "metadata": {
    "colab": {
      "provenance": [],
      "authorship_tag": "ABX9TyPGX2LfGa7Ckw9P0dTUd80B",
      "include_colab_link": true
    },
    "kernelspec": {
      "name": "python3",
      "display_name": "Python 3"
    },
    "language_info": {
      "name": "python"
    }
  },
  "cells": [
    {
      "cell_type": "markdown",
      "metadata": {
        "id": "view-in-github",
        "colab_type": "text"
      },
      "source": [
        "<a href=\"https://colab.research.google.com/github/Hasib57/Abstruct-Algebra/blob/main/Untitled4.ipynb\" target=\"_parent\"><img src=\"https://colab.research.google.com/assets/colab-badge.svg\" alt=\"Open In Colab\"/></a>"
      ]
    },
    {
      "cell_type": "code",
      "execution_count": null,
      "metadata": {
        "id": "gE-KTQKZfp2A"
      },
      "outputs": [],
      "source": []
    },
    {
      "cell_type": "code",
      "source": [
        "import cal as f\n",
        "import os\n",
        "\n",
        "print(\"Welcome to calculator->\")\n",
        "os.system('pause')\n",
        "while True:\n",
        "    os.system('cls')\n",
        "    print(\"Please choose an option:\")\n",
        "    print(\" 1.Addition\\n 2.Subtraction\\n 3.Multiplication\\n 4.Division\\n 5.Power\\n 6.Mod\\n 0 for exit\\n\")\n",
        "    choice= int(input(\"Your option:\"))\n",
        "    if choice==0:\n",
        "     break\n",
        "    else:\n",
        "       f.cal(choice)"
      ],
      "metadata": {
        "colab": {
          "base_uri": "https://localhost:8080/"
        },
        "id": "M3sZly64fzxo",
        "outputId": "1f86dda7-b287-4c68-cda7-2a143f491ceb"
      },
      "execution_count": 1,
      "outputs": [
        {
          "name": "stdout",
          "output_type": "stream",
          "text": [
            "Welcome to calculator->\n",
            "Please choose an option:\n",
            " 1.Addition\n",
            " 2.Subtraction\n",
            " 3.Multiplication\n",
            " 4.Division\n",
            " 5.Power\n",
            " 6.Mod\n",
            " 0 for exit\n",
            "\n",
            "Your option:1\n",
            "Please Enter Two Number:\n",
            "Value1: 12\n",
            "Value2: 12\n",
            "Answer: 24\n",
            "Please choose an option:\n",
            " 1.Addition\n",
            " 2.Subtraction\n",
            " 3.Multiplication\n",
            " 4.Division\n",
            " 5.Power\n",
            " 6.Mod\n",
            " 0 for exit\n",
            "\n",
            "Your option:2\n",
            "Please Enter Two Number:\n",
            "Value1: 12\n",
            "Value2: 10\n",
            "Answer: 2\n",
            "Please choose an option:\n",
            " 1.Addition\n",
            " 2.Subtraction\n",
            " 3.Multiplication\n",
            " 4.Division\n",
            " 5.Power\n",
            " 6.Mod\n",
            " 0 for exit\n",
            "\n",
            "Your option:0\n"
          ]
        }
      ]
    }
  ]
}